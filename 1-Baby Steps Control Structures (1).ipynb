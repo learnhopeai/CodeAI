{
 "cells": [
  {
   "cell_type": "code",
   "execution_count": 11,
   "id": "7f5b2212-fb33-4a74-b46a-99241e3b283a",
   "metadata": {},
   "outputs": [
    {
     "name": "stdout",
     "output_type": "stream",
     "text": [
      "Welcome to Assignment-1\n"
     ]
    }
   ],
   "source": [
    "print(\"Welcome to Assignment-1\")"
   ]
  },
  {
   "cell_type": "code",
   "execution_count": 13,
   "id": "2c07bed0-9bef-4678-b432-5edbdfc397b9",
   "metadata": {},
   "outputs": [
    {
     "name": "stdout",
     "output_type": "stream",
     "text": [
      "Num1= 10\n",
      "Num2= 30\n",
      "Add= 40\n"
     ]
    }
   ],
   "source": [
    "Num1=10\n",
    "Num2=30\n",
    "Add=Num1+Num2\n",
    "print(\"Num1=\", Num1)\n",
    "print(\"Num2=\" ,Num2)\n",
    "print(\"Add=\" ,Add)"
   ]
  },
  {
   "cell_type": "code",
   "execution_count": null,
   "id": "7ebcf56e-b557-47cd-a038-466f47c574a1",
   "metadata": {},
   "outputs": [],
   "source": [
    "# Body Mass Index"
   ]
  },
  {
   "cell_type": "code",
   "execution_count": 23,
   "id": "caf58ba9-0e8a-4d82-aa5b-78c47b9ef801",
   "metadata": {},
   "outputs": [
    {
     "name": "stdout",
     "output_type": "stream",
     "text": [
      "Enter the BMI Index: 34\n",
      "OBESE CLASS I\n"
     ]
    }
   ],
   "source": [
    "BMI=34\n",
    "\n",
    "print(\"Enter the BMI Index:\",BMI)\n",
    "if(BMI<18.5):\n",
    "    print(\"Underweight\")\n",
    "elif(BMI<24.9):\n",
    "    print(\"Normal range\")\n",
    "elif(BMI<29.9):\n",
    "    print(\"Overweight\")\n",
    "elif(BMI<34.9):\n",
    "    print(\"OBESE CLASS I\")\n",
    "elif(BMI<39.9):\n",
    "    print(\"OBESE CLASS II\")\n",
    "else:\n",
    "    print(\"OBESE CLASS III\")"
   ]
  },
  {
   "cell_type": "code",
   "execution_count": null,
   "id": "792787cc-0fc5-45db-9565-e42988097388",
   "metadata": {},
   "outputs": [],
   "source": []
  }
 ],
 "metadata": {
  "kernelspec": {
   "display_name": "Python 3 (ipykernel)",
   "language": "python",
   "name": "python3"
  },
  "language_info": {
   "codemirror_mode": {
    "name": "ipython",
    "version": 3
   },
   "file_extension": ".py",
   "mimetype": "text/x-python",
   "name": "python",
   "nbconvert_exporter": "python",
   "pygments_lexer": "ipython3",
   "version": "3.13.5"
  }
 },
 "nbformat": 4,
 "nbformat_minor": 5
}
