{
 "cells": [
  {
   "cell_type": "code",
   "execution_count": 4,
   "id": "c15cf6e5-5e33-4fb9-8fd4-7dc73ce041b9",
   "metadata": {},
   "outputs": [],
   "source": [
    "class SubfieldsInAI():\n",
    "    def Subfields():\n",
    "        lists=[\"Sub-fields in AI are:\",\"Machine Learning\",\"Neural Networks\",\"Vision\",\"Robotics\",\"Speech Processing\",\"Natural Language Processing\"]\n",
    "        for subfields in lists:\n",
    "            print(subfields)\n",
    "        "
   ]
  },
  {
   "cell_type": "code",
   "execution_count": 5,
   "id": "330e4c7d-9f0e-43f0-ab28-f79b9c977acb",
   "metadata": {},
   "outputs": [
    {
     "name": "stdout",
     "output_type": "stream",
     "text": [
      "Sub-fields in AI are:\n",
      "Machine Learning\n",
      "Neural Networks\n",
      "Vision\n",
      "Robotics\n",
      "Speech Processing\n",
      "Natural Language Processing\n"
     ]
    }
   ],
   "source": [
    "SubfieldsInAI.Subfields()"
   ]
  },
  {
   "cell_type": "code",
   "execution_count": 7,
   "id": "6334ecc0-385d-4d6a-9f9f-47b65316c588",
   "metadata": {},
   "outputs": [],
   "source": [
    "class OddEven():\n",
    "    def OddEven():\n",
    "        num=int(input(\"Enter a number:\"))\n",
    "        if((num%2)==1):\n",
    "            print(num, \"is odd number\")\n",
    "        else:\n",
    "            print(num,\"is even number\")"
   ]
  },
  {
   "cell_type": "code",
   "execution_count": 8,
   "id": "834b4ccb-9308-48aa-a039-094c7ec0b0dd",
   "metadata": {},
   "outputs": [
    {
     "name": "stdin",
     "output_type": "stream",
     "text": [
      "Enter a number: 52452\n"
     ]
    },
    {
     "name": "stdout",
     "output_type": "stream",
     "text": [
      "52452 is even number\n"
     ]
    }
   ],
   "source": [
    "OddEven.OddEven()"
   ]
  },
  {
   "cell_type": "code",
   "execution_count": 10,
   "id": "b6cc0f43-b635-4185-9958-de654401afc4",
   "metadata": {},
   "outputs": [],
   "source": [
    "class ElegiblityForMarriage():\n",
    "\n",
    "    def Elegible():\n",
    "        gender=input(\"Your Gender:\").capitalize()\n",
    "        age=int(input(\"Your Age:\"))\n",
    "        if(gender=='Male' and age>=21):\n",
    "            print(\"ELIGIBLE\")\n",
    "        elif(gender=='Female' and age>=18):\n",
    "            print(\"ELIGIBLE\")\n",
    "        else:\n",
    "            print(\"NOT ELIGIBLE\")"
   ]
  },
  {
   "cell_type": "code",
   "execution_count": 11,
   "id": "04172cb6-fc1c-41c4-96d4-39844b9b8e82",
   "metadata": {},
   "outputs": [
    {
     "name": "stdin",
     "output_type": "stream",
     "text": [
      "Your Gender: Male\n",
      "Your Age: 20\n"
     ]
    },
    {
     "name": "stdout",
     "output_type": "stream",
     "text": [
      "NOT ELIGIBLE\n"
     ]
    }
   ],
   "source": [
    "ElegiblityForMarriage.Elegible()"
   ]
  },
  {
   "cell_type": "code",
   "execution_count": 13,
   "id": "83dfca50-8650-4cf6-95b2-0aa509017642",
   "metadata": {},
   "outputs": [],
   "source": [
    "class FindPercent():\n",
    "    def percentage():\n",
    "        sub1=int(input(\"Subject1=\"))\n",
    "        sub2=int(input(\"Subject2=\"))\n",
    "        sub3=int(input(\"Subject3=\"))\n",
    "        sub4=int(input(\"Subject4=\"))\n",
    "        sub5=int(input(\"Subject5=\"))\n",
    "        Total=sub1+sub2+sub3+sub4+sub5\n",
    "        percent=(Total/500)*100\n",
    "        print (\"Total:\",Total)\n",
    "        print (\"Percentage:\",percent) "
   ]
  },
  {
   "cell_type": "code",
   "execution_count": 15,
   "id": "d249070a-e083-4998-ac0f-0decadb99f28",
   "metadata": {},
   "outputs": [
    {
     "name": "stdin",
     "output_type": "stream",
     "text": [
      "Subject1= 98\n",
      "Subject2= 87\n",
      "Subject3= 95\n",
      "Subject4= 95\n",
      "Subject5= 93\n"
     ]
    },
    {
     "name": "stdout",
     "output_type": "stream",
     "text": [
      "Total: 468\n",
      "Percentage: 93.60000000000001\n"
     ]
    }
   ],
   "source": [
    "FindPercent.percentage()"
   ]
  },
  {
   "cell_type": "code",
   "execution_count": 17,
   "id": "5c3745a8-619f-4c10-aa9f-5d9c864da87a",
   "metadata": {},
   "outputs": [],
   "source": [
    "class triangle():\n",
    "    def triangle():\n",
    "        height=int(input(\"Height:\"))\n",
    "        breadth=int(input(\"Breadth:\"))\n",
    "        formula=(height*breadth)/2\n",
    "        print(\"Area formula: (Height*Breadth)/2 \")\n",
    "        print(\"Area of Triangle:\", formula)\n",
    "        height1=int(input(\"Height1:\"))\n",
    "        height2=int(input(\"Height2:\"))\n",
    "        breadth=int(input(\"Breadth:\"))\n",
    "        triangle=height1+height2+breadth\n",
    "        print(\"Perimeter formula: Height1+Height2+Breadth\")\n",
    "        print(\"Perimeter of Triangle:\", triangle)"
   ]
  },
  {
   "cell_type": "code",
   "execution_count": 18,
   "id": "bc7f253a-8266-4f70-a62a-a0816d136572",
   "metadata": {},
   "outputs": [
    {
     "name": "stdin",
     "output_type": "stream",
     "text": [
      "Height: 32\n",
      "Breadth: 34\n"
     ]
    },
    {
     "name": "stdout",
     "output_type": "stream",
     "text": [
      "Area formula: (Height*Breadth)/2 \n",
      "Area of Triangle: 544.0\n"
     ]
    },
    {
     "name": "stdin",
     "output_type": "stream",
     "text": [
      "Height1: 2\n",
      "Height2: 4\n",
      "Breadth: 4\n"
     ]
    },
    {
     "name": "stdout",
     "output_type": "stream",
     "text": [
      "Perimeter formula: Height1+Height2+Breadth\n",
      "Perimeter of Triangle: 10\n"
     ]
    }
   ],
   "source": [
    "triangle.triangle()"
   ]
  },
  {
   "cell_type": "code",
   "execution_count": null,
   "id": "0a3a31d3-09c6-42ae-ba18-c8a98188995f",
   "metadata": {},
   "outputs": [],
   "source": []
  }
 ],
 "metadata": {
  "kernelspec": {
   "display_name": "Python 3 (ipykernel)",
   "language": "python",
   "name": "python3"
  },
  "language_info": {
   "codemirror_mode": {
    "name": "ipython",
    "version": 3
   },
   "file_extension": ".py",
   "mimetype": "text/x-python",
   "name": "python",
   "nbconvert_exporter": "python",
   "pygments_lexer": "ipython3",
   "version": "3.13.5"
  }
 },
 "nbformat": 4,
 "nbformat_minor": 5
}
