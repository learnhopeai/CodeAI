{
 "cells": [
  {
   "cell_type": "code",
   "execution_count": null,
   "id": "b263ae68-75f3-4ecf-9a7c-8757206aabd7",
   "metadata": {},
   "outputs": [],
   "source": [
    "def EliglibilityToVote():\n",
    "    age=int(input(\"Enter the age:\"))\n",
    "    if(age>=18):\n",
    "        print(\"Eliglible to Vote\")\n",
    "    else :\n",
    "        print(\"Not Eliglible to Vote\")\n",
    "        \n",
    "\n"
   ]
  },
  {
   "cell_type": "code",
   "execution_count": null,
   "id": "73cf9b58-6261-41a3-8365-e738072b1ed4",
   "metadata": {},
   "outputs": [],
   "source": [
    "EliglibilityToVote()"
   ]
  },
  {
   "cell_type": "code",
   "execution_count": null,
   "id": "18bcb57c-48c0-42fc-b0c5-8122c75f61df",
   "metadata": {},
   "outputs": [],
   "source": [
    "def FindLargestNumbers():\n",
    "    list=[]\n",
    "    count=int(input(\"Count of user entry\"))\n",
    "    \n",
    "    for i in range(count):\n",
    "        num=float(input(f\"User Input {i+1}:\" ))\n",
    "        list.append(num)\n",
    "\n",
    "    FindLargestNumbers=max(list)\n",
    "\n",
    "    \n",
    "    print(f\"The LargestNumbers in the list {list}: {FindLargestNumbers}\")\n",
    " "
   ]
  },
  {
   "cell_type": "code",
   "execution_count": null,
   "id": "a767ec12-f570-419c-9bfb-9e64a92dead5",
   "metadata": {},
   "outputs": [],
   "source": [
    "FindLargestNumbers()"
   ]
  },
  {
   "cell_type": "code",
   "execution_count": null,
   "id": "57a6041a-0091-47a6-bbea-c7d392ca6bc3",
   "metadata": {},
   "outputs": [],
   "source": [
    "def SalaryWithBonus():\n",
    "    TotalSalary=int(input(\"Enter Salary\"))\n",
    "    if(TotalSalary>50000):\n",
    "        Bonus=TotalSalary*0.10\n",
    "        print(Bonus)\n",
    "        Salary=TotalSalary+Bonus\n",
    "        print(Salary)\n",
    "    else:\n",
    "        print(TotalSalary)\n",
    "        \n",
    "        "
   ]
  },
  {
   "cell_type": "code",
   "execution_count": null,
   "id": "76ed262a-f45a-4c15-a366-298252cf47ca",
   "metadata": {},
   "outputs": [],
   "source": [
    "SalaryWithBonus()"
   ]
  },
  {
   "cell_type": "code",
   "execution_count": null,
   "id": "564af303-091f-435b-a5e4-69a167af4ce4",
   "metadata": {},
   "outputs": [],
   "source": [
    "def FindEvenOddNumber():\n",
    "    number=int(input(\"Enter the number:\"))\n",
    "    if(number%2==0):\n",
    "        print(\"The given number is Even:\",number)\n",
    "    else:\n",
    "        print(\"The given number is Odd:\",number)"
   ]
  },
  {
   "cell_type": "code",
   "execution_count": null,
   "id": "1a576c5a-30a2-4a28-ad2e-df742b406c19",
   "metadata": {},
   "outputs": [],
   "source": [
    "FindEvenOddNumber()"
   ]
  },
  {
   "cell_type": "code",
   "execution_count": null,
   "id": "601b3f35-717e-402f-bb22-9e9d9ef70213",
   "metadata": {},
   "outputs": [],
   "source": [
    "def StringReverse():\n",
    "    String=input(\"Enter the String:\")\n",
    "    ReverseString=String[::-1]\n",
    "    print(ReverseString)\n"
   ]
  },
  {
   "cell_type": "code",
   "execution_count": null,
   "id": "7b3b41f5-9a52-46cb-959d-033ebe6d6e4c",
   "metadata": {},
   "outputs": [],
   "source": [
    "StringReverse()"
   ]
  },
  {
   "cell_type": "code",
   "execution_count": null,
   "id": "0f0eeec2-5f6c-4faf-98fd-32c375ebc257",
   "metadata": {},
   "outputs": [],
   "source": [
    "def PassMark():\n",
    "    Mark=int(input(\"Enter the Subject\"))\n",
    "    if(Mark>=40):\n",
    "        print(\"Pass\")\n",
    "    else:\n",
    "        print(\"Fail\")\n",
    "                \n",
    "             "
   ]
  },
  {
   "cell_type": "code",
   "execution_count": null,
   "id": "4ff4e478-e190-4af4-b4b9-774a6b57ea6f",
   "metadata": {},
   "outputs": [],
   "source": [
    "PassMark()"
   ]
  },
  {
   "cell_type": "code",
   "execution_count": null,
   "id": "72225313-2cea-484d-8808-80fced9d2a32",
   "metadata": {},
   "outputs": [],
   "source": [
    "def Discount():\n",
    "    OrderPrice=int(input(\"Enter the price\"))\n",
    "    if(OrderPrice>100):\n",
    "        DiscountPrice=OrderPrice*0.2\n",
    "        print(\"Discount Price is:\", DiscountPrice)\n",
    "        \n",
    "        FinalAmountToBePaid=OrderPrice-DiscountPrice\n",
    "        \n",
    "        print(\"Final Amount To Be Paid:\", FinalAmountToBePaid)\n",
    "    else:\n",
    "        print(\"No Discount Apply\")"
   ]
  },
  {
   "cell_type": "code",
   "execution_count": null,
   "id": "7b79f9d0-c3c2-4ba0-acb6-45f6b423f8bd",
   "metadata": {},
   "outputs": [],
   "source": [
    "Discount()"
   ]
  },
  {
   "cell_type": "code",
   "execution_count": null,
   "id": "b19e9b09-e113-43b6-8233-d5b73293c5c9",
   "metadata": {},
   "outputs": [],
   "source": [
    "def Bank():\n",
    "    Balance=int(input(\"The Current Balance is:\"))\n",
    "    WithdrawalAmount=int(input(\"Withdrawal Amount is:\"))\n",
    "    if(WithdrawalAmount<= Balance):\n",
    "        RemainingBalance=Balance-WithdrawalAmount\n",
    "        print(\"The remaining balance is:\",RemainingBalance)\n",
    "\n",
    "    else:\n",
    "        print(\"No sufficient balance in your account\")\n"
   ]
  },
  {
   "cell_type": "code",
   "execution_count": null,
   "id": "78a9afa0-4b34-4d73-909b-ca570f8c302c",
   "metadata": {},
   "outputs": [],
   "source": [
    "Bank()"
   ]
  },
  {
   "cell_type": "code",
   "execution_count": null,
   "id": "a69df360-6eca-4883-bf2d-82b54571747e",
   "metadata": {},
   "outputs": [],
   "source": [
    "def FindLeapYear():\n",
    "    Year=int(input(\"Enter the Year\"))\n",
    "    if(Year%4==0):\n",
    "        print(\"Leap Year\")\n",
    "    elif(Year%400 ==0):\n",
    "        print(\"Leap Year\")\n",
    "    elif(Year%100==0):\n",
    "        print(\"Not a Leap Year\")\n",
    "    else:\n",
    "        print(\"Not a Leap Year\")\n",
    "\n",
    "    \n",
    "    "
   ]
  },
  {
   "cell_type": "code",
   "execution_count": null,
   "id": "2793ed7f-4bfd-4997-a6dd-35b25e5be4a4",
   "metadata": {},
   "outputs": [],
   "source": [
    "FindLeapYear()"
   ]
  },
  {
   "cell_type": "code",
   "execution_count": 34,
   "id": "0ce23e4c-8b42-4994-82d6-30450a407c1d",
   "metadata": {},
   "outputs": [],
   "source": [
    "def FindEvenNumbers():\n",
    "    list=[]\n",
    "    count=int(input(\"User Input\"))\n",
    "    for i in range(count):\n",
    "        numbers=int(input(f\"Find the number is even or odd {i+1}:\"))\n",
    "        list.append(numbers)\n",
    "        print(list)\n",
    "        for j in list:\n",
    "           if(j%2==0):\n",
    "                print(+j,\"is a Even Number\")\n",
    "           else:\n",
    "                print(+j,\"is a Odd Number\")\n",
    "       \n",
    "        \n",
    "    "
   ]
  },
  {
   "cell_type": "code",
   "execution_count": null,
   "id": "850dd15f-e3cb-4032-8d95-c5b76a5a136c",
   "metadata": {},
   "outputs": [
    {
     "name": "stdin",
     "output_type": "stream",
     "text": [
      "User Input 5\n",
      "Find the number is even or odd 1: 200\n"
     ]
    },
    {
     "name": "stdout",
     "output_type": "stream",
     "text": [
      "[200]\n",
      "200 Even Number\n"
     ]
    },
    {
     "name": "stdin",
     "output_type": "stream",
     "text": [
      "Find the number is even or odd 2: 400\n"
     ]
    },
    {
     "name": "stdout",
     "output_type": "stream",
     "text": [
      "[200, 400]\n",
      "200 Even Number\n",
      "400 Even Number\n"
     ]
    },
    {
     "name": "stdin",
     "output_type": "stream",
     "text": [
      "Find the number is even or odd 3: 600\n"
     ]
    },
    {
     "name": "stdout",
     "output_type": "stream",
     "text": [
      "[200, 400, 600]\n",
      "200 Even Number\n",
      "400 Even Number\n",
      "600 Even Number\n"
     ]
    },
    {
     "name": "stdin",
     "output_type": "stream",
     "text": [
      "Find the number is even or odd 4: 899\n"
     ]
    },
    {
     "name": "stdout",
     "output_type": "stream",
     "text": [
      "[200, 400, 600, 899]\n",
      "200 Even Number\n",
      "400 Even Number\n",
      "600 Even Number\n",
      "899 Odd Number\n"
     ]
    }
   ],
   "source": [
    "FindEvenNumbers()"
   ]
  },
  {
   "cell_type": "code",
   "execution_count": null,
   "id": "12c1982b-568d-49b7-9342-db26c9e35f7f",
   "metadata": {},
   "outputs": [],
   "source": []
  }
 ],
 "metadata": {
  "kernelspec": {
   "display_name": "Python 3 (ipykernel)",
   "language": "python",
   "name": "python3"
  },
  "language_info": {
   "codemirror_mode": {
    "name": "ipython",
    "version": 3
   },
   "file_extension": ".py",
   "mimetype": "text/x-python",
   "name": "python",
   "nbconvert_exporter": "python",
   "pygments_lexer": "ipython3",
   "version": "3.13.5"
  }
 },
 "nbformat": 4,
 "nbformat_minor": 5
}
